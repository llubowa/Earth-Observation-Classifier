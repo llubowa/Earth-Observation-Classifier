{
  "nbformat": 4,
  "nbformat_minor": 0,
  "metadata": {
    "colab": {
      "provenance": []
    },
    "kernelspec": {
      "name": "python3",
      "display_name": "Python 3"
    },
    "language_info": {
      "name": "python"
    }
  },
  "cells": [
    {
      "cell_type": "code",
      "source": [
        "!pip install rasterio"
      ],
      "metadata": {
        "colab": {
          "base_uri": "https://localhost:8080/"
        },
        "id": "WKQipEe_21gb",
        "outputId": "cf62c56b-3fb6-4acc-a19b-2fd3264cf2b6"
      },
      "execution_count": null,
      "outputs": [
        {
          "output_type": "stream",
          "name": "stdout",
          "text": [
            "Collecting rasterio\n",
            "  Downloading rasterio-1.3.9-cp310-cp310-manylinux2014_x86_64.whl (20.6 MB)\n",
            "\u001b[2K     \u001b[90m━━━━━━━━━━━━━━━━━━━━━━━━━━━━━━━━━━━━━━━━\u001b[0m \u001b[32m20.6/20.6 MB\u001b[0m \u001b[31m13.3 MB/s\u001b[0m eta \u001b[36m0:00:00\u001b[0m\n",
            "\u001b[?25hCollecting affine (from rasterio)\n",
            "  Downloading affine-2.4.0-py3-none-any.whl (15 kB)\n",
            "Requirement already satisfied: attrs in /usr/local/lib/python3.10/dist-packages (from rasterio) (23.2.0)\n",
            "Requirement already satisfied: certifi in /usr/local/lib/python3.10/dist-packages (from rasterio) (2024.2.2)\n",
            "Requirement already satisfied: click>=4.0 in /usr/local/lib/python3.10/dist-packages (from rasterio) (8.1.7)\n",
            "Requirement already satisfied: cligj>=0.5 in /usr/local/lib/python3.10/dist-packages (from rasterio) (0.7.2)\n",
            "Requirement already satisfied: numpy in /usr/local/lib/python3.10/dist-packages (from rasterio) (1.25.2)\n",
            "Collecting snuggs>=1.4.1 (from rasterio)\n",
            "  Downloading snuggs-1.4.7-py3-none-any.whl (5.4 kB)\n",
            "Requirement already satisfied: click-plugins in /usr/local/lib/python3.10/dist-packages (from rasterio) (1.1.1)\n",
            "Requirement already satisfied: setuptools in /usr/local/lib/python3.10/dist-packages (from rasterio) (67.7.2)\n",
            "Requirement already satisfied: pyparsing>=2.1.6 in /usr/local/lib/python3.10/dist-packages (from snuggs>=1.4.1->rasterio) (3.1.2)\n",
            "Installing collected packages: snuggs, affine, rasterio\n",
            "Successfully installed affine-2.4.0 rasterio-1.3.9 snuggs-1.4.7\n"
          ]
        }
      ]
    },
    {
      "cell_type": "code",
      "execution_count": null,
      "metadata": {
        "id": "5o6Ou5CC_b3y"
      },
      "outputs": [],
      "source": [
        "# Importing required libraries\n",
        "import glob\n",
        "import rasterio\n",
        "import pandas as pd\n",
        "import numpy as np\n",
        "import seaborn as sns\n",
        "import matplotlib.pyplot as plt\n",
        "import zipfile\n",
        "import os\n",
        "from osgeo import gdal\n",
        "from google.colab import drive\n",
        "from tqdm import tqdm\n",
        "from sklearn.preprocessing import StandardScaler\n",
        "from sklearn.model_selection import train_test_split\n",
        "from sklearn.ensemble import RandomForestClassifier\n",
        "from sklearn.preprocessing import LabelEncoder\n",
        "from sklearn.metrics import confusion_matrix\n"
      ]
    },
    {
      "cell_type": "markdown",
      "source": [],
      "metadata": {
        "id": "xt7SlBPgl45Q"
      }
    },
    {
      "cell_type": "code",
      "source": [
        "# Mounting the Google Drive\n",
        "drive.mount('/content/drive')"
      ],
      "metadata": {
        "colab": {
          "base_uri": "https://localhost:8080/"
        },
        "id": "KJWo9-NM_z3t",
        "outputId": "2a641471-8905-485a-f519-683499a2c585"
      },
      "execution_count": null,
      "outputs": [
        {
          "output_type": "stream",
          "name": "stdout",
          "text": [
            "Mounted at /content/drive\n"
          ]
        }
      ]
    },
    {
      "cell_type": "code",
      "source": [
        "# Path to the zipped dataset on the drive\n",
        "path =\"/content/drive/MyDrive/EuroSAT_MS.zip\""
      ],
      "metadata": {
        "id": "2dxdTT6h_3h4"
      },
      "execution_count": null,
      "outputs": []
    },
    {
      "cell_type": "code",
      "source": [
        "# Extracting the zipped file into the Datasets folder\n",
        "with zipfile.ZipFile(path,\"r\") as zip_ref:\n",
        "  zip_ref.extractall(\"Datasets\")"
      ],
      "metadata": {
        "id": "11AtGNTAAFuk"
      },
      "execution_count": null,
      "outputs": []
    },
    {
      "cell_type": "code",
      "source": [
        "# Path to the extracted data\n",
        "data_folder = \"/content/Datasets/EuroSAT_MS\""
      ],
      "metadata": {
        "id": "3OEhadgOAN4u"
      },
      "execution_count": null,
      "outputs": []
    },
    {
      "cell_type": "code",
      "source": [
        "# Listing the contents in the data folder\n",
        "os.listdir(data_folder)"
      ],
      "metadata": {
        "colab": {
          "base_uri": "https://localhost:8080/"
        },
        "id": "YU1ezZo8AhEX",
        "outputId": "4cbde1e8-8d13-4d5c-ba84-fc6f17ad8d2b"
      },
      "execution_count": null,
      "outputs": [
        {
          "output_type": "execute_result",
          "data": {
            "text/plain": [
              "['PermanentCrop',\n",
              " 'Forest',\n",
              " 'SeaLake',\n",
              " 'River',\n",
              " 'AnnualCrop',\n",
              " 'Industrial',\n",
              " 'HerbaceousVegetation',\n",
              " 'Pasture',\n",
              " 'Residential',\n",
              " 'Highway']"
            ]
          },
          "metadata": {},
          "execution_count": 7
        }
      ]
    },
    {
      "cell_type": "code",
      "source": [
        "# Inspecting data in the Highway sub folder\n",
        "os.listdir(os.path.join(data_folder,'Industrial'))"
      ],
      "metadata": {
        "id": "5AyeQD2QAk98"
      },
      "execution_count": null,
      "outputs": []
    },
    {
      "cell_type": "code",
      "source": [
        "# Path to a specific .tif file in the Highway sub folder\n",
        "path = \"/content/Datasets/EuroSAT_MS/Industrial/Industrial_1577.tif\""
      ],
      "metadata": {
        "id": "PCsp_g63lsOH"
      },
      "execution_count": null,
      "outputs": []
    },
    {
      "cell_type": "code",
      "source": [
        "# Opening the .tif file with gdal\n",
        "ds = gdal.Open(path)"
      ],
      "metadata": {
        "id": "j4ydyZVhana0"
      },
      "execution_count": null,
      "outputs": []
    },
    {
      "cell_type": "code",
      "source": [
        "# Obtaining the file projection\n",
        "ds.GetProjection()"
      ],
      "metadata": {
        "colab": {
          "base_uri": "https://localhost:8080/",
          "height": 88
        },
        "id": "yUyxoOxWbTbV",
        "outputId": "ce6dfed8-bb21-47ea-c0fe-3b8eba4d745e"
      },
      "execution_count": null,
      "outputs": [
        {
          "output_type": "execute_result",
          "data": {
            "text/plain": [
              "'PROJCS[\"WGS 84 / UTM zone 31N\",GEOGCS[\"WGS 84\",DATUM[\"WGS_1984\",SPHEROID[\"WGS 84\",6378137,298.257223563,AUTHORITY[\"EPSG\",\"7030\"]],AUTHORITY[\"EPSG\",\"6326\"]],PRIMEM[\"Greenwich\",0,AUTHORITY[\"EPSG\",\"8901\"]],UNIT[\"degree\",0.0174532925199433,AUTHORITY[\"EPSG\",\"9122\"]],AUTHORITY[\"EPSG\",\"4326\"]],PROJECTION[\"Transverse_Mercator\"],PARAMETER[\"latitude_of_origin\",0],PARAMETER[\"central_meridian\",3],PARAMETER[\"scale_factor\",0.9996],PARAMETER[\"false_easting\",500000],PARAMETER[\"false_northing\",0],UNIT[\"metre\",1,AUTHORITY[\"EPSG\",\"9001\"]],AXIS[\"Easting\",EAST],AXIS[\"Northing\",NORTH],AUTHORITY[\"EPSG\",\"32631\"]]'"
            ],
            "application/vnd.google.colaboratory.intrinsic+json": {
              "type": "string"
            }
          },
          "metadata": {},
          "execution_count": 11
        }
      ]
    },
    {
      "cell_type": "code",
      "source": [
        "# Number of bands\n",
        "ds.RasterCount"
      ],
      "metadata": {
        "colab": {
          "base_uri": "https://localhost:8080/"
        },
        "id": "hq-9K441dcvh",
        "outputId": "b97503e3-7558-4a97-e78d-3bb921d2e3e3"
      },
      "execution_count": null,
      "outputs": [
        {
          "output_type": "execute_result",
          "data": {
            "text/plain": [
              "13"
            ]
          },
          "metadata": {},
          "execution_count": 12
        }
      ]
    },
    {
      "cell_type": "code",
      "source": [
        "# Reading the pixels values of all the 13 bands in an array\n",
        "ds.ReadAsArray()"
      ],
      "metadata": {
        "colab": {
          "base_uri": "https://localhost:8080/"
        },
        "id": "32xAgxYOjUDX",
        "outputId": "5288d7bf-0d5b-405e-9eb0-6bdc12c06c19"
      },
      "execution_count": null,
      "outputs": [
        {
          "output_type": "execute_result",
          "data": {
            "text/plain": [
              "array([[[1319, 1319, 1324, ..., 1228, 1228, 1230],\n",
              "        [1319, 1319, 1324, ..., 1228, 1228, 1230],\n",
              "        [1321, 1321, 1324, ..., 1232, 1233, 1234],\n",
              "        ...,\n",
              "        [1291, 1291, 1295, ..., 1442, 1411, 1384],\n",
              "        [1290, 1290, 1295, ..., 1441, 1412, 1385],\n",
              "        [1288, 1288, 1295, ..., 1437, 1409, 1384]],\n",
              "\n",
              "       [[1142, 1142, 1149, ...,  938,  951,  947],\n",
              "        [1142, 1142, 1149, ...,  938,  951,  947],\n",
              "        [ 976,  976, 1110, ...,  946,  936,  930],\n",
              "        ...,\n",
              "        [ 902,  902, 1022, ..., 1208, 1184, 1145],\n",
              "        [ 936,  936, 1060, ..., 1207, 1184, 1160],\n",
              "        [ 948,  948, 1061, ..., 1199, 1181, 1180]],\n",
              "\n",
              "       [[ 946,  946,  964, ..., 1053, 1059, 1036],\n",
              "        [ 946,  946,  964, ..., 1053, 1059, 1036],\n",
              "        [ 725,  725,  917, ..., 1053, 1046, 1033],\n",
              "        ...,\n",
              "        [ 726,  726,  934, ..., 1158, 1108, 1080],\n",
              "        [ 817,  817, 1028, ..., 1148, 1111, 1092],\n",
              "        [ 890,  890, 1024, ..., 1153, 1136, 1139]],\n",
              "\n",
              "       ...,\n",
              "\n",
              "       [[1120, 1120, 1203, ..., 1875, 1880, 1874],\n",
              "        [1120, 1120, 1203, ..., 1875, 1880, 1874],\n",
              "        [1201, 1201, 1284, ..., 1877, 1880, 1874],\n",
              "        ...,\n",
              "        [1756, 1756, 1910, ..., 3096, 3051, 2825],\n",
              "        [1791, 1791, 1968, ..., 3360, 3322, 3132],\n",
              "        [1830, 1830, 1999, ..., 3507, 3466, 3314]],\n",
              "\n",
              "       [[ 782,  782,  829, ...,  796,  804,  807],\n",
              "        [ 782,  782,  829, ...,  796,  804,  807],\n",
              "        [ 791,  791,  848, ...,  790,  798,  804],\n",
              "        ...,\n",
              "        [1062, 1062, 1170, ..., 1931, 1855, 1670],\n",
              "        [1056, 1056, 1213, ..., 2119, 2063, 1899],\n",
              "        [1068, 1068, 1247, ..., 2219, 2179, 2049]],\n",
              "\n",
              "       [[1573, 1573, 1681, ..., 5563, 5551, 5526],\n",
              "        [1573, 1573, 1681, ..., 5563, 5551, 5526],\n",
              "        [1696, 1696, 1781, ..., 5565, 5552, 5533],\n",
              "        ...,\n",
              "        [2663, 2663, 2738, ..., 3233, 3254, 3135],\n",
              "        [2826, 2826, 2789, ..., 3204, 3210, 3153],\n",
              "        [2942, 2942, 2790, ..., 3235, 3213, 3164]]], dtype=uint16)"
            ]
          },
          "metadata": {},
          "execution_count": 13
        }
      ]
    },
    {
      "cell_type": "code",
      "source": [
        "# Generating description of the array\n",
        "with rasterio.open(path) as src:\n",
        "    # Print dataset metadata\n",
        "    print(\"Raster Dataset Metadata:\")\n",
        "    print(src.profile)\n",
        "    num_bands = src.count\n",
        "    print(\"Number of bands:\", num_bands)\n",
        "\n",
        "\n"
      ],
      "metadata": {
        "colab": {
          "base_uri": "https://localhost:8080/"
        },
        "id": "e_xe4yfpIGy9",
        "outputId": "9ef475e9-7fb0-4f7f-e1b3-c5f4653a64b6"
      },
      "execution_count": null,
      "outputs": [
        {
          "output_type": "stream",
          "name": "stdout",
          "text": [
            "Raster Dataset Metadata:\n",
            "{'driver': 'GTiff', 'dtype': 'uint16', 'nodata': None, 'width': 64, 'height': 64, 'count': 13, 'crs': CRS.from_epsg(32631), 'transform': Affine(10.063603025974476, 0.0, 780022.213993,\n",
            "       0.0, -9.932244428566523, 5616884.36391), 'blockysize': 4, 'tiled': False, 'interleave': 'pixel'}\n",
            "Number of bands: 13\n"
          ]
        }
      ]
    },
    {
      "cell_type": "code",
      "source": [
        "# Function returns the raster data from the specified band of the GeoTIFF file.\n",
        "def preprocess_geotiff(filepath):\n",
        "    with rasterio.open(filepath) as src:\n",
        "        # For example, read the eighth band:\n",
        "        raster_data = src.read(8)\n",
        "    return raster_data\n",
        "\n",
        "image = preprocess_geotiff(path)\n",
        "# Displaying the raster in an image format\n",
        "plt.imshow(image)"
      ],
      "metadata": {
        "colab": {
          "base_uri": "https://localhost:8080/",
          "height": 449
        },
        "id": "WCoP0S9uFvwk",
        "outputId": "afdb035e-864d-4421-aa3e-606082db0e4b"
      },
      "execution_count": null,
      "outputs": [
        {
          "output_type": "execute_result",
          "data": {
            "text/plain": [
              "<matplotlib.image.AxesImage at 0x7b75c447e950>"
            ]
          },
          "metadata": {},
          "execution_count": 32
        },
        {
          "output_type": "display_data",
          "data": {
            "text/plain": [
              "<Figure size 640x480 with 1 Axes>"
            ],
            "image/png": "[encoded data removed]"
          },
          "metadata": {}
        }
      ]
    },
    {
      "cell_type": "markdown",
      "source": [
        "**Putting all the 13 bands into a single dataframe for machine learning**"
      ],
      "metadata": {
        "id": "k9-XmktY_dNq"
      }
    },
    {
      "cell_type": "code",
      "source": [
        "# Define the bands\n",
        "bands = ['band1', 'band2', 'band3', 'band4', 'band5', 'band6', 'band7', 'band8', 'band9', 'band10', 'band11', 'band12', 'band13']\n",
        "\n",
        "# Initialize lists to store data\n",
        "data = {band: [] for band in bands}\n",
        "data['target'] = []\n",
        "\n",
        "# Iterate through each class folder\n",
        "class_folders = os.listdir(data_folder)\n",
        "for class_folder in class_folders:\n",
        "    class_path = os.path.join(data_folder, class_folder)\n",
        "    if os.path.isdir(class_path):\n",
        "        class_label = class_folder\n",
        "        # Iterate through .tif files in the class folder\n",
        "        tif_files = glob.glob(os.path.join(class_path, '*.tif'))\n",
        "        for tif_file in tqdm(tif_files, desc=class_label):\n",
        "        #for tif_file in tif_files:\n",
        "            # Open the .tif file\n",
        "            with rasterio.open(tif_file) as src:\n",
        "                # Read image bands\n",
        "                for i in range(1, src.count + 1):  # Iterate through bands\n",
        "                    band_data = src.read(i)\n",
        "                    data[f'band{i}'].append(band_data.ravel())\n",
        "                # Append classification label\n",
        "                data['target'].append(class_label)\n",
        "\n",
        "# Create DataFrame\n",
        "df = pd.DataFrame(data)\n",
        "\n",
        "# Optional: Save DataFrame to a CSV file\n",
        "#df.to_csv('EuroSAT_MS_dataset.csv', index=False)\n"
      ],
      "metadata": {
        "colab": {
          "base_uri": "https://localhost:8080/"
        },
        "id": "ulWkD3r9Myji",
        "outputId": "4cd2409f-e628-4e24-eaba-91358ab368dc"
      },
      "execution_count": null,
      "outputs": [
        {
          "output_type": "stream",
          "name": "stderr",
          "text": [
            "Forest: 100%|██████████| 3000/3000 [00:22<00:00, 134.04it/s]\n",
            "PermanentCrop: 100%|██████████| 2500/2500 [00:13<00:00, 179.20it/s]\n",
            "Industrial: 100%|██████████| 2500/2500 [00:14<00:00, 178.46it/s]\n",
            "AnnualCrop: 100%|██████████| 3000/3000 [00:20<00:00, 145.43it/s]\n",
            "Highway: 100%|██████████| 2500/2500 [00:18<00:00, 135.82it/s]\n",
            "SeaLake: 100%|██████████| 3000/3000 [00:20<00:00, 149.19it/s]\n",
            "Residential: 100%|██████████| 3000/3000 [00:17<00:00, 174.44it/s]\n",
            "Pasture: 100%|██████████| 2000/2000 [00:11<00:00, 179.94it/s]\n",
            "HerbaceousVegetation: 100%|██████████| 3000/3000 [00:17<00:00, 175.08it/s]\n",
            "River: 100%|██████████| 2500/2500 [00:18<00:00, 136.98it/s]\n"
          ]
        }
      ]
    },
    {
      "cell_type": "code",
      "source": [
        "df.head()"
      ],
      "metadata": {
        "colab": {
          "base_uri": "https://localhost:8080/",
          "height": 883
        },
        "id": "R14N8Wy9aF4H",
        "outputId": "4abfc015-64c6-407b-e0ff-def34439cbcd"
      },
      "execution_count": null,
      "outputs": [
        {
          "output_type": "execute_result",
          "data": {
            "text/plain": [
              "                                               band1  \\\n",
              "0  [1382, 1382, 1383, 1387, 1396, 1410, 1429, 145...   \n",
              "1  [1459, 1459, 1449, 1442, 1437, 1436, 1436, 143...   \n",
              "2  [1296, 1296, 1297, 1298, 1299, 1299, 1300, 130...   \n",
              "3  [1169, 1169, 1165, 1163, 1160, 1159, 1157, 115...   \n",
              "4  [1187, 1187, 1190, 1193, 1197, 1201, 1206, 121...   \n",
              "\n",
              "                                               band2  \\\n",
              "0  [1217, 1217, 1196, 1196, 1137, 1210, 1346, 129...   \n",
              "1  [1243, 1243, 1266, 1284, 1298, 1251, 1224, 121...   \n",
              "2  [1191, 1191, 1192, 1187, 1209, 1212, 1169, 118...   \n",
              "3  [964, 964, 962, 953, 953, 944, 923, 922, 918, ...   \n",
              "4  [986, 986, 964, 966, 950, 944, 974, 1019, 1000...   \n",
              "\n",
              "                                               band3  \\\n",
              "0  [1293, 1293, 1220, 1204, 1170, 1239, 1465, 126...   \n",
              "1  [1365, 1365, 1385, 1456, 1466, 1409, 1352, 136...   \n",
              "2  [1308, 1308, 1357, 1363, 1377, 1368, 1285, 130...   \n",
              "3  [945, 945, 948, 953, 946, 916, 912, 913, 922, ...   \n",
              "4  [987, 987, 1013, 959, 926, 934, 967, 1010, 991...   \n",
              "\n",
              "                                               band4  \\\n",
              "0  [1482, 1482, 1385, 1375, 1406, 1490, 1707, 161...   \n",
              "1  [1539, 1539, 1622, 1738, 1770, 1689, 1638, 162...   \n",
              "2  [1961, 1961, 2026, 2065, 2069, 2008, 1821, 191...   \n",
              "3  [831, 831, 806, 781, 792, 787, 768, 738, 718, ...   \n",
              "4  [973, 973, 948, 888, 818, 814, 888, 1012, 950,...   \n",
              "\n",
              "                                               band5  \\\n",
              "0  [1550, 1550, 1542, 1533, 1554, 1602, 1649, 168...   \n",
              "1  [1791, 1791, 1836, 1889, 1924, 1916, 1876, 184...   \n",
              "2  [2148, 2148, 2176, 2187, 2177, 2157, 2140, 214...   \n",
              "3  [1155, 1155, 1155, 1161, 1171, 1183, 1194, 120...   \n",
              "4  [1320, 1320, 1292, 1255, 1233, 1238, 1261, 129...   \n",
              "\n",
              "                                               band6  \\\n",
              "0  [2066, 2066, 2099, 2170, 2234, 2266, 2261, 223...   \n",
              "1  [2376, 2376, 2405, 2437, 2441, 2410, 2362, 233...   \n",
              "2  [2436, 2436, 2453, 2458, 2451, 2445, 2448, 246...   \n",
              "3  [1991, 1991, 2050, 2126, 2203, 2269, 2316, 235...   \n",
              "4  [2200, 2200, 2193, 2212, 2224, 2217, 2206, 222...   \n",
              "\n",
              "                                               band7  \\\n",
              "0  [2402, 2402, 2437, 2496, 2545, 2565, 2553, 251...   \n",
              "1  [2749, 2749, 2757, 2764, 2752, 2719, 2683, 267...   \n",
              "2  [2679, 2679, 2689, 2690, 2681, 2679, 2689, 271...   \n",
              "3  [2279, 2279, 2361, 2463, 2559, 2634, 2689, 273...   \n",
              "4  [2585, 2585, 2597, 2634, 2647, 2631, 2622, 265...   \n",
              "\n",
              "                                               band8  \\\n",
              "0  [2451, 2451, 2512, 2579, 2363, 2472, 2586, 224...   \n",
              "1  [2594, 2594, 2576, 2668, 2720, 2620, 2513, 252...   \n",
              "2  [2573, 2573, 2603, 2605, 2676, 2668, 2767, 272...   \n",
              "3  [2257, 2257, 2427, 2484, 2442, 2458, 2428, 253...   \n",
              "4  [2348, 2348, 2595, 2578, 2555, 2538, 2543, 240...   \n",
              "\n",
              "                                               band9  \\\n",
              "0  [778, 778, 779, 782, 787, 792, 798, 805, 812, ...   \n",
              "1  [775, 775, 768, 763, 759, 757, 756, 756, 756, ...   \n",
              "2  [1110, 1110, 1112, 1115, 1118, 1122, 1125, 112...   \n",
              "3  [752, 752, 757, 762, 768, 775, 781, 787, 793, ...   \n",
              "4  [583, 583, 585, 587, 590, 593, 596, 599, 602, ...   \n",
              "\n",
              "                                              band10  \\\n",
              "0  [13, 13, 13, 13, 13, 13, 13, 13, 13, 13, 13, 1...   \n",
              "1  [15, 15, 15, 15, 15, 14, 14, 14, 14, 14, 14, 1...   \n",
              "2  [17, 17, 17, 17, 17, 17, 17, 17, 17, 17, 18, 1...   \n",
              "3  [12, 12, 12, 12, 12, 11, 11, 11, 11, 10, 10, 1...   \n",
              "4  [10, 10, 10, 10, 10, 10, 10, 10, 10, 10, 10, 1...   \n",
              "\n",
              "                                              band11  \\\n",
              "0  [2675, 2675, 2609, 2544, 2511, 2518, 2544, 258...   \n",
              "1  [3204, 3204, 3243, 3284, 3310, 3313, 3299, 328...   \n",
              "2  [3792, 3792, 3826, 3841, 3836, 3815, 3799, 381...   \n",
              "3  [2251, 2251, 2230, 2201, 2166, 2125, 2079, 203...   \n",
              "4  [2332, 2332, 2330, 2328, 2327, 2330, 2340, 235...   \n",
              "\n",
              "                                              band12  \\\n",
              "0  [1753, 1753, 1723, 1697, 1707, 1751, 1796, 183...   \n",
              "1  [2292, 2292, 2327, 2362, 2382, 2377, 2354, 233...   \n",
              "2  [2712, 2712, 2743, 2759, 2759, 2738, 2714, 273...   \n",
              "3  [1575, 1575, 1530, 1479, 1423, 1363, 1306, 125...   \n",
              "4  [1517, 1517, 1496, 1467, 1460, 1480, 1509, 152...   \n",
              "\n",
              "                                              band13         target  \n",
              "0  [2640, 2640, 2674, 2686, 2714, 2748, 2731, 266...  PermanentCrop  \n",
              "1  [3006, 3006, 3006, 3026, 3037, 3012, 2960, 292...  PermanentCrop  \n",
              "2  [2836, 2836, 2856, 2865, 2861, 2863, 2875, 288...  PermanentCrop  \n",
              "3  [2510, 2510, 2581, 2664, 2752, 2838, 2915, 298...  PermanentCrop  \n",
              "4  [2867, 2867, 2886, 2924, 2934, 2912, 2900, 293...  PermanentCrop  "
            ],
            "text/html": [
              "\n",
              "  <div id=\"df-0ba80baa-4b97-4aaf-812e-4b47acc011ab\" class=\"colab-df-container\">\n",
              "    <div>\n",
              "<style scoped>\n",
              "    .dataframe tbody tr th:only-of-type {\n",
              "        vertical-align: middle;\n",
              "    }\n",
              "\n",
              "    .dataframe tbody tr th {\n",
              "        vertical-align: top;\n",
              "    }\n",
              "\n",
              "    .dataframe thead th {\n",
              "        text-align: right;\n",
              "    }\n",
              "</style>\n",
              "<table border=\"1\" class=\"dataframe\">\n",
              "  <thead>\n",
              "    <tr style=\"text-align: right;\">\n",
              "      <th></th>\n",
              "      <th>band1</th>\n",
              "      <th>band2</th>\n",
              "      <th>band3</th>\n",
              "      <th>band4</th>\n",
              "      <th>band5</th>\n",
              "      <th>band6</th>\n",
              "      <th>band7</th>\n",
              "      <th>band8</th>\n",
              "      <th>band9</th>\n",
              "      <th>band10</th>\n",
              "      <th>band11</th>\n",
              "      <th>band12</th>\n",
              "      <th>band13</th>\n",
              "      <th>target</th>\n",
              "    </tr>\n",
              "  </thead>\n",
              "  <tbody>\n",
              "    <tr>\n",
              "      <th>0</th>\n",
              "      <td>[1382, 1382, 1383, 1387, 1396, 1410, 1429, 145...</td>\n",
              "      <td>[1217, 1217, 1196, 1196, 1137, 1210, 1346, 129...</td>\n",
              "      <td>[1293, 1293, 1220, 1204, 1170, 1239, 1465, 126...</td>\n",
              "      <td>[1482, 1482, 1385, 1375, 1406, 1490, 1707, 161...</td>\n",
              "      <td>[1550, 1550, 1542, 1533, 1554, 1602, 1649, 168...</td>\n",
              "      <td>[2066, 2066, 2099, 2170, 2234, 2266, 2261, 223...</td>\n",
              "      <td>[2402, 2402, 2437, 2496, 2545, 2565, 2553, 251...</td>\n",
              "      <td>[2451, 2451, 2512, 2579, 2363, 2472, 2586, 224...</td>\n",
              "      <td>[778, 778, 779, 782, 787, 792, 798, 805, 812, ...</td>\n",
              "      <td>[13, 13, 13, 13, 13, 13, 13, 13, 13, 13, 13, 1...</td>\n",
              "      <td>[2675, 2675, 2609, 2544, 2511, 2518, 2544, 258...</td>\n",
              "      <td>[1753, 1753, 1723, 1697, 1707, 1751, 1796, 183...</td>\n",
              "      <td>[2640, 2640, 2674, 2686, 2714, 2748, 2731, 266...</td>\n",
              "      <td>PermanentCrop</td>\n",
              "    </tr>\n",
              "    <tr>\n",
              "      <th>1</th>\n",
              "      <td>[1459, 1459, 1449, 1442, 1437, 1436, 1436, 143...</td>\n",
              "      <td>[1243, 1243, 1266, 1284, 1298, 1251, 1224, 121...</td>\n",
              "      <td>[1365, 1365, 1385, 1456, 1466, 1409, 1352, 136...</td>\n",
              "      <td>[1539, 1539, 1622, 1738, 1770, 1689, 1638, 162...</td>\n",
              "      <td>[1791, 1791, 1836, 1889, 1924, 1916, 1876, 184...</td>\n",
              "      <td>[2376, 2376, 2405, 2437, 2441, 2410, 2362, 233...</td>\n",
              "      <td>[2749, 2749, 2757, 2764, 2752, 2719, 2683, 267...</td>\n",
              "      <td>[2594, 2594, 2576, 2668, 2720, 2620, 2513, 252...</td>\n",
              "      <td>[775, 775, 768, 763, 759, 757, 756, 756, 756, ...</td>\n",
              "      <td>[15, 15, 15, 15, 15, 14, 14, 14, 14, 14, 14, 1...</td>\n",
              "      <td>[3204, 3204, 3243, 3284, 3310, 3313, 3299, 328...</td>\n",
              "      <td>[2292, 2292, 2327, 2362, 2382, 2377, 2354, 233...</td>\n",
              "      <td>[3006, 3006, 3006, 3026, 3037, 3012, 2960, 292...</td>\n",
              "      <td>PermanentCrop</td>\n",
              "    </tr>\n",
              "    <tr>\n",
              "      <th>2</th>\n",
              "      <td>[1296, 1296, 1297, 1298, 1299, 1299, 1300, 130...</td>\n",
              "      <td>[1191, 1191, 1192, 1187, 1209, 1212, 1169, 118...</td>\n",
              "      <td>[1308, 1308, 1357, 1363, 1377, 1368, 1285, 130...</td>\n",
              "      <td>[1961, 1961, 2026, 2065, 2069, 2008, 1821, 191...</td>\n",
              "      <td>[2148, 2148, 2176, 2187, 2177, 2157, 2140, 214...</td>\n",
              "      <td>[2436, 2436, 2453, 2458, 2451, 2445, 2448, 246...</td>\n",
              "      <td>[2679, 2679, 2689, 2690, 2681, 2679, 2689, 271...</td>\n",
              "      <td>[2573, 2573, 2603, 2605, 2676, 2668, 2767, 272...</td>\n",
              "      <td>[1110, 1110, 1112, 1115, 1118, 1122, 1125, 112...</td>\n",
              "      <td>[17, 17, 17, 17, 17, 17, 17, 17, 17, 17, 18, 1...</td>\n",
              "      <td>[3792, 3792, 3826, 3841, 3836, 3815, 3799, 381...</td>\n",
              "      <td>[2712, 2712, 2743, 2759, 2759, 2738, 2714, 273...</td>\n",
              "      <td>[2836, 2836, 2856, 2865, 2861, 2863, 2875, 288...</td>\n",
              "      <td>PermanentCrop</td>\n",
              "    </tr>\n",
              "    <tr>\n",
              "      <th>3</th>\n",
              "      <td>[1169, 1169, 1165, 1163, 1160, 1159, 1157, 115...</td>\n",
              "      <td>[964, 964, 962, 953, 953, 944, 923, 922, 918, ...</td>\n",
              "      <td>[945, 945, 948, 953, 946, 916, 912, 913, 922, ...</td>\n",
              "      <td>[831, 831, 806, 781, 792, 787, 768, 738, 718, ...</td>\n",
              "      <td>[1155, 1155, 1155, 1161, 1171, 1183, 1194, 120...</td>\n",
              "      <td>[1991, 1991, 2050, 2126, 2203, 2269, 2316, 235...</td>\n",
              "      <td>[2279, 2279, 2361, 2463, 2559, 2634, 2689, 273...</td>\n",
              "      <td>[2257, 2257, 2427, 2484, 2442, 2458, 2428, 253...</td>\n",
              "      <td>[752, 752, 757, 762, 768, 775, 781, 787, 793, ...</td>\n",
              "      <td>[12, 12, 12, 12, 12, 11, 11, 11, 11, 10, 10, 1...</td>\n",
              "      <td>[2251, 2251, 2230, 2201, 2166, 2125, 2079, 203...</td>\n",
              "      <td>[1575, 1575, 1530, 1479, 1423, 1363, 1306, 125...</td>\n",
              "      <td>[2510, 2510, 2581, 2664, 2752, 2838, 2915, 298...</td>\n",
              "      <td>PermanentCrop</td>\n",
              "    </tr>\n",
              "    <tr>\n",
              "      <th>4</th>\n",
              "      <td>[1187, 1187, 1190, 1193, 1197, 1201, 1206, 121...</td>\n",
              "      <td>[986, 986, 964, 966, 950, 944, 974, 1019, 1000...</td>\n",
              "      <td>[987, 987, 1013, 959, 926, 934, 967, 1010, 991...</td>\n",
              "      <td>[973, 973, 948, 888, 818, 814, 888, 1012, 950,...</td>\n",
              "      <td>[1320, 1320, 1292, 1255, 1233, 1238, 1261, 129...</td>\n",
              "      <td>[2200, 2200, 2193, 2212, 2224, 2217, 2206, 222...</td>\n",
              "      <td>[2585, 2585, 2597, 2634, 2647, 2631, 2622, 265...</td>\n",
              "      <td>[2348, 2348, 2595, 2578, 2555, 2538, 2543, 240...</td>\n",
              "      <td>[583, 583, 585, 587, 590, 593, 596, 599, 602, ...</td>\n",
              "      <td>[10, 10, 10, 10, 10, 10, 10, 10, 10, 10, 10, 1...</td>\n",
              "      <td>[2332, 2332, 2330, 2328, 2327, 2330, 2340, 235...</td>\n",
              "      <td>[1517, 1517, 1496, 1467, 1460, 1480, 1509, 152...</td>\n",
              "      <td>[2867, 2867, 2886, 2924, 2934, 2912, 2900, 293...</td>\n",
              "      <td>PermanentCrop</td>\n",
              "    </tr>\n",
              "  </tbody>\n",
              "</table>\n",
              "</div>\n",
              "    <div class=\"colab-df-buttons\">\n",
              "\n",
              "  <div class=\"colab-df-container\">\n",
              "    <button class=\"colab-df-convert\" onclick=\"convertToInteractive('df-0ba80baa-4b97-4aaf-812e-4b47acc011ab')\"\n",
              "            title=\"Convert this dataframe to an interactive table.\"\n",
              "            style=\"display:none;\">\n",
              "\n",
              "  <svg xmlns=\"http://www.w3.org/2000/svg\" height=\"24px\" viewBox=\"0 -960 960 960\">\n",
              "    <path d=\"M120-120v-720h720v720H120Zm60-500h600v-160H180v160Zm220 220h160v-160H400v160Zm0 220h160v-160H400v160ZM180-400h160v-160H180v160Zm440 0h160v-160H620v160ZM180-180h160v-160H180v160Zm440 0h160v-160H620v160Z\"/>\n",
              "  </svg>\n",
              "    </button>\n",
              "\n",
              "  <style>\n",
              "    .colab-df-container {\n",
              "      display:flex;\n",
              "      gap: 12px;\n",
              "    }\n",
              "\n",
              "    .colab-df-convert {\n",
              "      background-color: #E8F0FE;\n",
              "      border: none;\n",
              "      border-radius: 50%;\n",
              "      cursor: pointer;\n",
              "      display: none;\n",
              "      fill: #1967D2;\n",
              "      height: 32px;\n",
              "      padding: 0 0 0 0;\n",
              "      width: 32px;\n",
              "    }\n",
              "\n",
              "    .colab-df-convert:hover {\n",
              "      background-color: #E2EBFA;\n",
              "      box-shadow: 0px 1px 2px rgba(60, 64, 67, 0.3), 0px 1px 3px 1px rgba(60, 64, 67, 0.15);\n",
              "      fill: #174EA6;\n",
              "    }\n",
              "\n",
              "    .colab-df-buttons div {\n",
              "      margin-bottom: 4px;\n",
              "    }\n",
              "\n",
              "    [theme=dark] .colab-df-convert {\n",
              "      background-color: #3B4455;\n",
              "      fill: #D2E3FC;\n",
              "    }\n",
              "\n",
              "    [theme=dark] .colab-df-convert:hover {\n",
              "      background-color: #434B5C;\n",
              "      box-shadow: 0px 1px 3px 1px rgba(0, 0, 0, 0.15);\n",
              "      filter: drop-shadow(0px 1px 2px rgba(0, 0, 0, 0.3));\n",
              "      fill: #FFFFFF;\n",
              "    }\n",
              "  </style>\n",
              "\n",
              "    <script>\n",
              "      const buttonEl =\n",
              "        document.querySelector('#df-0ba80baa-4b97-4aaf-812e-4b47acc011ab button.colab-df-convert');\n",
              "      buttonEl.style.display =\n",
              "        google.colab.kernel.accessAllowed ? 'block' : 'none';\n",
              "\n",
              "      async function convertToInteractive(key) {\n",
              "        const element = document.querySelector('#df-0ba80baa-4b97-4aaf-812e-4b47acc011ab');\n",
              "        const dataTable =\n",
              "          await google.colab.kernel.invokeFunction('convertToInteractive',\n",
              "                                                    [key], {});\n",
              "        if (!dataTable) return;\n",
              "\n",
              "        const docLinkHtml = 'Like what you see? Visit the ' +\n",
              "          '<a target=\"_blank\" href=https://colab.research.google.com/notebooks/data_table.ipynb>data table notebook</a>'\n",
              "          + ' to learn more about interactive tables.';\n",
              "        element.innerHTML = '';\n",
              "        dataTable['output_type'] = 'display_data';\n",
              "        await google.colab.output.renderOutput(dataTable, element);\n",
              "        const docLink = document.createElement('div');\n",
              "        docLink.innerHTML = docLinkHtml;\n",
              "        element.appendChild(docLink);\n",
              "      }\n",
              "    </script>\n",
              "  </div>\n",
              "\n",
              "\n",
              "<div id=\"df-45713ae2-df5c-4fee-9dd4-3d748300da1d\">\n",
              "  <button class=\"colab-df-quickchart\" onclick=\"quickchart('df-45713ae2-df5c-4fee-9dd4-3d748300da1d')\"\n",
              "            title=\"Suggest charts\"\n",
              "            style=\"display:none;\">\n",
              "\n",
              "<svg xmlns=\"http://www.w3.org/2000/svg\" height=\"24px\"viewBox=\"0 0 24 24\"\n",
              "     width=\"24px\">\n",
              "    <g>\n",
              "        <path d=\"M19 3H5c-1.1 0-2 .9-2 2v14c0 1.1.9 2 2 2h14c1.1 0 2-.9 2-2V5c0-1.1-.9-2-2-2zM9 17H7v-7h2v7zm4 0h-2V7h2v10zm4 0h-2v-4h2v4z\"/>\n",
              "    </g>\n",
              "</svg>\n",
              "  </button>\n",
              "\n",
              "<style>\n",
              "  .colab-df-quickchart {\n",
              "      --bg-color: #E8F0FE;\n",
              "      --fill-color: #1967D2;\n",
              "      --hover-bg-color: #E2EBFA;\n",
              "      --hover-fill-color: #174EA6;\n",
              "      --disabled-fill-color: #AAA;\n",
              "      --disabled-bg-color: #DDD;\n",
              "  }\n",
              "\n",
              "  [theme=dark] .colab-df-quickchart {\n",
              "      --bg-color: #3B4455;\n",
              "      --fill-color: #D2E3FC;\n",
              "      --hover-bg-color: #434B5C;\n",
              "      --hover-fill-color: #FFFFFF;\n",
              "      --disabled-bg-color: #3B4455;\n",
              "      --disabled-fill-color: #666;\n",
              "  }\n",
              "\n",
              "  .colab-df-quickchart {\n",
              "    background-color: var(--bg-color);\n",
              "    border: none;\n",
              "    border-radius: 50%;\n",
              "    cursor: pointer;\n",
              "    display: none;\n",
              "    fill: var(--fill-color);\n",
              "    height: 32px;\n",
              "    padding: 0;\n",
              "    width: 32px;\n",
              "  }\n",
              "\n",
              "  .colab-df-quickchart:hover {\n",
              "    background-color: var(--hover-bg-color);\n",
              "    box-shadow: 0 1px 2px rgba(60, 64, 67, 0.3), 0 1px 3px 1px rgba(60, 64, 67, 0.15);\n",
              "    fill: var(--button-hover-fill-color);\n",
              "  }\n",
              "\n",
              "  .colab-df-quickchart-complete:disabled,\n",
              "  .colab-df-quickchart-complete:disabled:hover {\n",
              "    background-color: var(--disabled-bg-color);\n",
              "    fill: var(--disabled-fill-color);\n",
              "    box-shadow: none;\n",
              "  }\n",
              "\n",
              "  .colab-df-spinner {\n",
              "    border: 2px solid var(--fill-color);\n",
              "    border-color: transparent;\n",
              "    border-bottom-color: var(--fill-color);\n",
              "    animation:\n",
              "      spin 1s steps(1) infinite;\n",
              "  }\n",
              "\n",
              "  @keyframes spin {\n",
              "    0% {\n",
              "      border-color: transparent;\n",
              "      border-bottom-color: var(--fill-color);\n",
              "      border-left-color: var(--fill-color);\n",
              "    }\n",
              "    20% {\n",
              "      border-color: transparent;\n",
              "      border-left-color: var(--fill-color);\n",
              "      border-top-color: var(--fill-color);\n",
              "    }\n",
              "    30% {\n",
              "      border-color: transparent;\n",
              "      border-left-color: var(--fill-color);\n",
              "      border-top-color: var(--fill-color);\n",
              "      border-right-color: var(--fill-color);\n",
              "    }\n",
              "    40% {\n",
              "      border-color: transparent;\n",
              "      border-right-color: var(--fill-color);\n",
              "      border-top-color: var(--fill-color);\n",
              "    }\n",
              "    60% {\n",
              "      border-color: transparent;\n",
              "      border-right-color: var(--fill-color);\n",
              "    }\n",
              "    80% {\n",
              "      border-color: transparent;\n",
              "      border-right-color: var(--fill-color);\n",
              "      border-bottom-color: var(--fill-color);\n",
              "    }\n",
              "    90% {\n",
              "      border-color: transparent;\n",
              "      border-bottom-color: var(--fill-color);\n",
              "    }\n",
              "  }\n",
              "</style>\n",
              "\n",
              "  <script>\n",
              "    async function quickchart(key) {\n",
              "      const quickchartButtonEl =\n",
              "        document.querySelector('#' + key + ' button');\n",
              "      quickchartButtonEl.disabled = true;  // To prevent multiple clicks.\n",
              "      quickchartButtonEl.classList.add('colab-df-spinner');\n",
              "      try {\n",
              "        const charts = await google.colab.kernel.invokeFunction(\n",
              "            'suggestCharts', [key], {});\n",
              "      } catch (error) {\n",
              "        console.error('Error during call to suggestCharts:', error);\n",
              "      }\n",
              "      quickchartButtonEl.classList.remove('colab-df-spinner');\n",
              "      quickchartButtonEl.classList.add('colab-df-quickchart-complete');\n",
              "    }\n",
              "    (() => {\n",
              "      let quickchartButtonEl =\n",
              "        document.querySelector('#df-45713ae2-df5c-4fee-9dd4-3d748300da1d button');\n",
              "      quickchartButtonEl.style.display =\n",
              "        google.colab.kernel.accessAllowed ? 'block' : 'none';\n",
              "    })();\n",
              "  </script>\n",
              "</div>\n",
              "\n",
              "    </div>\n",
              "  </div>\n"
            ],
            "application/vnd.google.colaboratory.intrinsic+json": {
              "type": "dataframe",
              "variable_name": "df",
              "summary": "{\n  \"name\": \"df\",\n  \"rows\": 27000,\n  \"fields\": [\n    {\n      \"column\": \"band1\",\n      \"properties\": {\n        \"dtype\": \"object\",\n        \"semantic_type\": \"\",\n        \"description\": \"\"\n      }\n    },\n    {\n      \"column\": \"band2\",\n      \"properties\": {\n        \"dtype\": \"object\",\n        \"semantic_type\": \"\",\n        \"description\": \"\"\n      }\n    },\n    {\n      \"column\": \"band3\",\n      \"properties\": {\n        \"dtype\": \"object\",\n        \"semantic_type\": \"\",\n        \"description\": \"\"\n      }\n    },\n    {\n      \"column\": \"band4\",\n      \"properties\": {\n        \"dtype\": \"object\",\n        \"semantic_type\": \"\",\n        \"description\": \"\"\n      }\n    },\n    {\n      \"column\": \"band5\",\n      \"properties\": {\n        \"dtype\": \"object\",\n        \"semantic_type\": \"\",\n        \"description\": \"\"\n      }\n    },\n    {\n      \"column\": \"band6\",\n      \"properties\": {\n        \"dtype\": \"object\",\n        \"semantic_type\": \"\",\n        \"description\": \"\"\n      }\n    },\n    {\n      \"column\": \"band7\",\n      \"properties\": {\n        \"dtype\": \"object\",\n        \"semantic_type\": \"\",\n        \"description\": \"\"\n      }\n    },\n    {\n      \"column\": \"band8\",\n      \"properties\": {\n        \"dtype\": \"object\",\n        \"semantic_type\": \"\",\n        \"description\": \"\"\n      }\n    },\n    {\n      \"column\": \"band9\",\n      \"properties\": {\n        \"dtype\": \"object\",\n        \"semantic_type\": \"\",\n        \"description\": \"\"\n      }\n    },\n    {\n      \"column\": \"band10\",\n      \"properties\": {\n        \"dtype\": \"object\",\n        \"semantic_type\": \"\",\n        \"description\": \"\"\n      }\n    },\n    {\n      \"column\": \"band11\",\n      \"properties\": {\n        \"dtype\": \"object\",\n        \"semantic_type\": \"\",\n        \"description\": \"\"\n      }\n    },\n    {\n      \"column\": \"band12\",\n      \"properties\": {\n        \"dtype\": \"object\",\n        \"semantic_type\": \"\",\n        \"description\": \"\"\n      }\n    },\n    {\n      \"column\": \"band13\",\n      \"properties\": {\n        \"dtype\": \"object\",\n        \"semantic_type\": \"\",\n        \"description\": \"\"\n      }\n    },\n    {\n      \"column\": \"target\",\n      \"properties\": {\n        \"dtype\": \"category\",\n        \"num_unique_values\": 10,\n        \"samples\": [\n          \"Residential\",\n          \"Forest\",\n          \"Industrial\"\n        ],\n        \"semantic_type\": \"\",\n        \"description\": \"\"\n      }\n    }\n  ]\n}"
            }
          },
          "metadata": {},
          "execution_count": 9
        }
      ]
    },
    {
      "cell_type": "code",
      "source": [
        "df.shape"
      ],
      "metadata": {
        "colab": {
          "base_uri": "https://localhost:8080/"
        },
        "id": "T4IroGY5heUu",
        "outputId": "663bd08e-ae0b-4c18-d952-16a239b8f734"
      },
      "execution_count": null,
      "outputs": [
        {
          "output_type": "execute_result",
          "data": {
            "text/plain": [
              "(27000, 14)"
            ]
          },
          "metadata": {},
          "execution_count": 11
        }
      ]
    },
    {
      "cell_type": "code",
      "source": [
        "df.columns"
      ],
      "metadata": {
        "id": "DfXnARsXK4R7",
        "colab": {
          "base_uri": "https://localhost:8080/"
        },
        "outputId": "7f3f4ee7-c10e-462d-cb2b-b0805e87a255"
      },
      "execution_count": null,
      "outputs": [
        {
          "output_type": "execute_result",
          "data": {
            "text/plain": [
              "Index(['band1', 'band2', 'band3', 'band4', 'band5', 'band6', 'band7', 'band8',\n",
              "       'band9', 'band10', 'band11', 'band12', 'band13', 'target'],\n",
              "      dtype='object')"
            ]
          },
          "metadata": {},
          "execution_count": 12
        }
      ]
    },
    {
      "cell_type": "code",
      "source": [
        "df['target'].unique()"
      ],
      "metadata": {
        "id": "DUfeI0BN_JHe",
        "outputId": "262afab3-1cca-4406-ce94-c7ba866cd1c0",
        "colab": {
          "base_uri": "https://localhost:8080/"
        }
      },
      "execution_count": null,
      "outputs": [
        {
          "output_type": "execute_result",
          "data": {
            "text/plain": [
              "array(['Industrial', 'Highway', 'AnnualCrop', 'SeaLake', 'River',\n",
              "       'Forest', 'HerbaceousVegetation', 'Pasture', 'Residential',\n",
              "       'PermanentCrop'], dtype=object)"
            ]
          },
          "metadata": {},
          "execution_count": 13
        }
      ]
    },
    {
      "cell_type": "code",
      "source": [
        "# Define the target column\n",
        "target_column = df['target']\n",
        "\n",
        "# Initialize LabelEncoder\n",
        "label_encoder = LabelEncoder()\n",
        "\n",
        "# Fit and transform the target column\n",
        "encoded_target = label_encoder.fit_transform(target_column)\n",
        "\n",
        "# Replace the original target column with the encoded values\n",
        "df['target'] = encoded_target\n",
        "\n",
        "# Display the mapping between original target values and their encoded representations\n",
        "mapping = dict(zip(label_encoder.classes_, label_encoder.transform(label_encoder.classes_)))\n",
        "print(\"Mapping of original target values to encoded representations:\")\n",
        "print(mapping)\n",
        "\n",
        "# Split the data into features (X) and target (y)\n",
        "X = np.array(df.drop('target', axis=1))  # Assuming 'target' is the column to predict\n",
        "y = df['target']\n",
        "#X = np.array([np.concatenate(sample) for sample in X])\n",
        "# Split the data into training and testing sets\n",
        "X_train, X_test, y_train, y_test = train_test_split(X, y, test_size=0.2, random_state=42)\n",
        "\n",
        "# Flatten the nested arrays in X_train\n",
        "X_train_flat = np.array([np.concatenate(sample) for sample in X_train])\n",
        "\n",
        "# Initialize the Random Forest Classifier\n",
        "rf_classifier = RandomForestClassifier()\n",
        "\n",
        "# Train the classifier on the training data\n",
        "rf_classifier.fit(X_train_flat, y_train)\n"
      ],
      "metadata": {
        "id": "iDcU5ovdBUxl",
        "outputId": "455638a4-f4b6-480b-b9b0-afbb474980f9",
        "colab": {
          "base_uri": "https://localhost:8080/",
          "height": 129
        }
      },
      "execution_count": null,
      "outputs": [
        {
          "output_type": "stream",
          "name": "stdout",
          "text": [
            "Mapping of original target values to encoded representations:\n",
            "{'AnnualCrop': 0, 'Forest': 1, 'HerbaceousVegetation': 2, 'Highway': 3, 'Industrial': 4, 'Pasture': 5, 'PermanentCrop': 6, 'Residential': 7, 'River': 8, 'SeaLake': 9}\n"
          ]
        },
        {
          "output_type": "execute_result",
          "data": {
            "text/plain": [
              "RandomForestClassifier()"
            ],
            "text/html": [
              "<style>#sk-container-id-1 {color: black;background-color: white;}#sk-container-id-1 pre{padding: 0;}#sk-container-id-1 div.sk-toggleable {background-color: white;}#sk-container-id-1 label.sk-toggleable__label {cursor: pointer;display: block;width: 100%;margin-bottom: 0;padding: 0.3em;box-sizing: border-box;text-align: center;}#sk-container-id-1 label.sk-toggleable__label-arrow:before {content: \"▸\";float: left;margin-right: 0.25em;color: #696969;}#sk-container-id-1 label.sk-toggleable__label-arrow:hover:before {color: black;}#sk-container-id-1 div.sk-estimator:hover label.sk-toggleable__label-arrow:before {color: black;}#sk-container-id-1 div.sk-toggleable__content {max-height: 0;max-width: 0;overflow: hidden;text-align: left;background-color: #f0f8ff;}#sk-container-id-1 div.sk-toggleable__content pre {margin: 0.2em;color: black;border-radius: 0.25em;background-color: #f0f8ff;}#sk-container-id-1 input.sk-toggleable__control:checked~div.sk-toggleable__content {max-height: 200px;max-width: 100%;overflow: auto;}#sk-container-id-1 input.sk-toggleable__control:checked~label.sk-toggleable__label-arrow:before {content: \"▾\";}#sk-container-id-1 div.sk-estimator input.sk-toggleable__control:checked~label.sk-toggleable__label {background-color: #d4ebff;}#sk-container-id-1 div.sk-label input.sk-toggleable__control:checked~label.sk-toggleable__label {background-color: #d4ebff;}#sk-container-id-1 input.sk-hidden--visually {border: 0;clip: rect(1px 1px 1px 1px);clip: rect(1px, 1px, 1px, 1px);height: 1px;margin: -1px;overflow: hidden;padding: 0;position: absolute;width: 1px;}#sk-container-id-1 div.sk-estimator {font-family: monospace;background-color: #f0f8ff;border: 1px dotted black;border-radius: 0.25em;box-sizing: border-box;margin-bottom: 0.5em;}#sk-container-id-1 div.sk-estimator:hover {background-color: #d4ebff;}#sk-container-id-1 div.sk-parallel-item::after {content: \"\";width: 100%;border-bottom: 1px solid gray;flex-grow: 1;}#sk-container-id-1 div.sk-label:hover label.sk-toggleable__label {background-color: #d4ebff;}#sk-container-id-1 div.sk-serial::before {content: \"\";position: absolute;border-left: 1px solid gray;box-sizing: border-box;top: 0;bottom: 0;left: 50%;z-index: 0;}#sk-container-id-1 div.sk-serial {display: flex;flex-direction: column;align-items: center;background-color: white;padding-right: 0.2em;padding-left: 0.2em;position: relative;}#sk-container-id-1 div.sk-item {position: relative;z-index: 1;}#sk-container-id-1 div.sk-parallel {display: flex;align-items: stretch;justify-content: center;background-color: white;position: relative;}#sk-container-id-1 div.sk-item::before, #sk-container-id-1 div.sk-parallel-item::before {content: \"\";position: absolute;border-left: 1px solid gray;box-sizing: border-box;top: 0;bottom: 0;left: 50%;z-index: -1;}#sk-container-id-1 div.sk-parallel-item {display: flex;flex-direction: column;z-index: 1;position: relative;background-color: white;}#sk-container-id-1 div.sk-parallel-item:first-child::after {align-self: flex-end;width: 50%;}#sk-container-id-1 div.sk-parallel-item:last-child::after {align-self: flex-start;width: 50%;}#sk-container-id-1 div.sk-parallel-item:only-child::after {width: 0;}#sk-container-id-1 div.sk-dashed-wrapped {border: 1px dashed gray;margin: 0 0.4em 0.5em 0.4em;box-sizing: border-box;padding-bottom: 0.4em;background-color: white;}#sk-container-id-1 div.sk-label label {font-family: monospace;font-weight: bold;display: inline-block;line-height: 1.2em;}#sk-container-id-1 div.sk-label-container {text-align: center;}#sk-container-id-1 div.sk-container {/* jupyter's `normalize.less` sets `[hidden] { display: none; }` but bootstrap.min.css set `[hidden] { display: none !important; }` so we also need the `!important` here to be able to override the default hidden behavior on the sphinx rendered scikit-learn.org. See: https://github.com/scikit-learn/scikit-learn/issues/21755 */display: inline-block !important;position: relative;}#sk-container-id-1 div.sk-text-repr-fallback {display: none;}</style><div id=\"sk-container-id-1\" class=\"sk-top-container\"><div class=\"sk-text-repr-fallback\"><pre>RandomForestClassifier()</pre><b>In a Jupyter environment, please rerun this cell to show the HTML representation or trust the notebook. <br />On GitHub, the HTML representation is unable to render, please try loading this page with nbviewer.org.</b></div><div class=\"sk-container\" hidden><div class=\"sk-item\"><div class=\"sk-estimator sk-toggleable\"><input class=\"sk-toggleable__control sk-hidden--visually\" id=\"sk-estimator-id-1\" type=\"checkbox\" checked><label for=\"sk-estimator-id-1\" class=\"sk-toggleable__label sk-toggleable__label-arrow\">RandomForestClassifier</label><div class=\"sk-toggleable__content\"><pre>RandomForestClassifier()</pre></div></div></div></div></div>"
            ]
          },
          "metadata": {},
          "execution_count": 9
        }
      ]
    },
    {
      "cell_type": "code",
      "source": [
        "X_test_flat = np.array([np.concatenate(sample) for sample in X_test])"
      ],
      "metadata": {
        "id": "oIq4boIHCBr9"
      },
      "execution_count": null,
      "outputs": []
    },
    {
      "cell_type": "code",
      "source": [
        "y_pred = rf_classifier.predict(X_test_flat)"
      ],
      "metadata": {
        "id": "zhodPDnoFN--"
      },
      "execution_count": null,
      "outputs": []
    },
    {
      "cell_type": "code",
      "source": [
        "rf_classifier.score(X_train_flat, y_train)"
      ],
      "metadata": {
        "colab": {
          "base_uri": "https://localhost:8080/"
        },
        "id": "mXo2r7cJdgeg",
        "outputId": "2fa3212b-51cd-48e7-ea7f-dca5b179b2a6"
      },
      "execution_count": null,
      "outputs": [
        {
          "output_type": "execute_result",
          "data": {
            "text/plain": [
              "1.0"
            ]
          },
          "metadata": {},
          "execution_count": 12
        }
      ]
    },
    {
      "cell_type": "code",
      "source": [
        "rf_classifier.score(X_test_flat, y_test)"
      ],
      "metadata": {
        "id": "6AnjoGjfFZLq",
        "outputId": "e8d9c4c1-dc71-425e-8675-5f4999336ab0",
        "colab": {
          "base_uri": "https://localhost:8080/"
        }
      },
      "execution_count": null,
      "outputs": [
        {
          "output_type": "execute_result",
          "data": {
            "text/plain": [
              "0.8203703703703704"
            ]
          },
          "metadata": {},
          "execution_count": 13
        }
      ]
    },
    {
      "cell_type": "code",
      "source": [
        "from joblib import dump\n",
        "\n",
        "# Save the trained model to a file\n",
        "model_filename = 'random_forest_model.joblib'\n",
        "dump(rf_classifier, model_filename)\n"
      ],
      "metadata": {
        "id": "kfK6niAdBOS7",
        "outputId": "534449e2-cf9e-45a4-d114-a4c949b69433",
        "colab": {
          "base_uri": "https://localhost:8080/"
        }
      },
      "execution_count": null,
      "outputs": [
        {
          "output_type": "execute_result",
          "data": {
            "text/plain": [
              "['random_forest_model.joblib']"
            ]
          },
          "metadata": {},
          "execution_count": 22
        }
      ]
    },
    {
      "cell_type": "code",
      "source": [
        "# Define class labels\n",
        "class_labels = ['AnnualCrop', 'Forest', 'HerbaceousVegetation', 'Highway', 'Industrial',\n",
        "                'Pasture', 'PermanentCrop', 'Residential', 'River', 'SeaLake']\n",
        "\n",
        "# Create confusion matrix\n",
        "conf_matrix = confusion_matrix(y_test, y_pred)\n",
        "\n",
        "# Plot confusion matrix\n",
        "plt.figure(figsize=(10, 8))\n",
        "sns.heatmap(conf_matrix, annot=True, cmap='Blues', fmt='d', cbar=False,\n",
        "            xticklabels=class_labels, yticklabels=class_labels)\n",
        "plt.xlabel('Predicted Labels')\n",
        "plt.ylabel('True Labels')\n",
        "plt.title('Confusion Matrix')\n",
        "plt.show()\n"
      ],
      "metadata": {
        "colab": {
          "base_uri": "https://localhost:8080/",
          "height": 862
        },
        "id": "328crhPRfyKF",
        "outputId": "0b10b26b-aabe-4021-d349-93ae7e240edb"
      },
      "execution_count": null,
      "outputs": [
        {
          "output_type": "display_data",
          "data": {
            "text/plain": [
              "<Figure size 1000x800 with 1 Axes>"
            ],
            "image/png": "[encoded data removed]"
          },
          "metadata": {}
        }
      ]
    },
    {
      "cell_type": "code",
      "source": [
        "import joblib"
      ],
      "metadata": {
        "id": "pfPzxda_G9Ej"
      },
      "execution_count": null,
      "outputs": []
    },
    {
      "cell_type": "code",
      "source": [
        "model_path =\"/content/drive/MyDrive/random_forest_model (1).joblib\"\n",
        "# Load the saved model\n",
        "loaded_model = joblib.load(model_path)"
      ],
      "metadata": {
        "id": "BcqAj5awEzhu"
      },
      "execution_count": null,
      "outputs": []
    },
    {
      "cell_type": "code",
      "source": [
        "# Define the bands\n",
        "bands = ['band1', 'band2', 'band3', 'band4', 'band5', 'band6', 'band7', 'band8', 'band9', 'band10', 'band11', 'band12', 'band13']\n",
        "mapping = {'AnnualCrop': 0, 'Forest': 1, 'HerbaceousVegetation': 2, 'Highway': 3, 'Industrial': 4, 'Pasture': 5, 'PermanentCrop': 6, 'Residential': 7, 'River': 8, 'SeaLake': 9}\n",
        "# Initialize lists to store data\n",
        "data = {band: [] for band in bands}\n",
        "#data['target'] = []\n",
        "path = \"/content/Datasets/EuroSAT_MS/Residential/Residential_1146.tif\"\n",
        "def predictor(path):\n",
        "  with rasterio.open(path) as src:\n",
        "      # Read image bands\n",
        "      for i in range(1, src.count + 1):  # Iterate through bands\n",
        "          band_data = src.read(i)\n",
        "          data[f'band{i}'].append(band_data.ravel())\n",
        "      # Append classification label\n",
        "      #data['target'].append(class_label)\n",
        "      df = pd.DataFrame(data)\n",
        "  X = np.array(df)\n",
        "  X_flat = np.array([np.concatenate(sample) for sample in X])\n",
        "  prediction = loaded_model.predict(X_flat)\n",
        "  predicted_class = list(mapping.keys())[list(mapping.values()).index(prediction[0])]\n",
        "  return predicted_class\n"
      ],
      "metadata": {
        "id": "HtqP-5BAx3FZ"
      },
      "execution_count": null,
      "outputs": []
    },
    {
      "cell_type": "code",
      "source": [
        "land_cover = predictor(path)\n",
        "land_cover"
      ],
      "metadata": {
        "colab": {
          "base_uri": "https://localhost:8080/",
          "height": 36
        },
        "id": "27eBB7N4CB4d",
        "outputId": "743cacfd-aeb4-4fc2-8bdb-5883d3d01b52"
      },
      "execution_count": null,
      "outputs": [
        {
          "output_type": "execute_result",
          "data": {
            "text/plain": [
              "'Residential'"
            ],
            "application/vnd.google.colaboratory.intrinsic+json": {
              "type": "string"
            }
          },
          "metadata": {},
          "execution_count": 27
        }
      ]
    },
    {
      "cell_type": "code",
      "source": [],
      "metadata": {
        "id": "bato1w4_tFTh"
      },
      "execution_count": null,
      "outputs": []
    }
  ]
}